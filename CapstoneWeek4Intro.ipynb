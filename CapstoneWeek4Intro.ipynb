{
 "cells": [
  {
   "cell_type": "markdown",
   "metadata": {},
   "source": [
    "# Capstone Project - Battle of the Neighborhoods (Part 1)"
   ]
  },
  {
   "cell_type": "markdown",
   "metadata": {},
   "source": [
    "#### Introduction"
   ]
  },
  {
   "cell_type": "markdown",
   "metadata": {},
   "source": [
    "This notebook is part of the Capstone Project for IBM's Data Science Professional Certificate. For this project, I will be exploring a hypothetical request regarding Japanese restaurants in New York City. As of 2011, about 20,000 Japanese were living in New York City and a total of around 45,000 Japanese were living in the Greater New York City area. Most of this population consists of students, artists and expatriate business workers who are typically posted within the US for three to five years. While the Japanese in New York comprise a smaller demographic than the Chinese or Korean populations respectively, the popularity of Japanese cuisine means that there will never be a lack of demand, both from the largest Japanese community on the East Coast and from the general public, tourists and locals alike."
   ]
  },
  {
   "cell_type": "markdown",
   "metadata": {},
   "source": [
    "#### Business Problem"
   ]
  },
  {
   "cell_type": "markdown",
   "metadata": {},
   "source": [
    "Find data-driven answers to the following quesions:"
   ]
  },
  {
   "cell_type": "markdown",
   "metadata": {},
   "source": [
    "1. List and visualize all areas of New York City that feature great Japanese restaurants."
   ]
  },
  {
   "cell_type": "markdown",
   "metadata": {},
   "source": [
    "2. Find the best area in New York City for Japanese cuisine."
   ]
  },
  {
   "cell_type": "markdown",
   "metadata": {},
   "source": [
    "3. Highlight which areas have a potential market for Japanese restaurants."
   ]
  },
  {
   "cell_type": "markdown",
   "metadata": {},
   "source": [
    "4. Find out which areas are lacking in Japanese restaurants."
   ]
  },
  {
   "cell_type": "markdown",
   "metadata": {},
   "source": [
    "5. Determine where in New York is the best place to stay if you prefer Japanese food."
   ]
  },
  {
   "cell_type": "markdown",
   "metadata": {},
   "source": [
    "#### Target Audience"
   ]
  },
  {
   "cell_type": "markdown",
   "metadata": {},
   "source": [
    "This report and its findings will be useful to anyone wanting to get a detailed overview of Japanese cuisine within New York City bounds and for anyone who wishes to see how data is used to provide prospective small business owners and restauranteurs with the information needed to make informed decisions."
   ]
  }
 ],
 "metadata": {
  "kernelspec": {
   "display_name": "Python",
   "language": "python",
   "name": "conda-env-python-py"
  },
  "language_info": {
   "codemirror_mode": {
    "name": "ipython",
    "version": 3
   },
   "file_extension": ".py",
   "mimetype": "text/x-python",
   "name": "python",
   "nbconvert_exporter": "python",
   "pygments_lexer": "ipython3",
   "version": "3.6.11"
  }
 },
 "nbformat": 4,
 "nbformat_minor": 4
}
